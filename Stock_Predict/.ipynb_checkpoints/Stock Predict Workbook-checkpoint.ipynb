{
 "metadata": {
  "name": "",
  "signature": "sha256:14ea7380d011f2d52adb11dd966d0dd60c4b5e341b9d76f0bb952c3afb18f0ef"
 },
 "nbformat": 3,
 "nbformat_minor": 0,
 "worksheets": [
  {
   "cells": [
    {
     "cell_type": "heading",
     "level": 1,
     "metadata": {},
     "source": [
      "Stock Prediction Workbook"
     ]
    },
    {
     "cell_type": "markdown",
     "metadata": {},
     "source": [
      "Fraser Campbell & Sabine Crevoisier"
     ]
    },
    {
     "cell_type": "heading",
     "level": 2,
     "metadata": {},
     "source": [
      "Literature Study"
     ]
    },
    {
     "cell_type": "markdown",
     "metadata": {},
     "source": [
      "Prior to undertaking this prediction project we explored some work done in this field and opportunities for contributions"
     ]
    },
    {
     "cell_type": "heading",
     "level": 4,
     "metadata": {},
     "source": [
      "Data to Predict (Y variables)"
     ]
    },
    {
     "cell_type": "markdown",
     "metadata": {},
     "source": [
      "1. Yahoo (Company Stock Prices)\n",
      "2. Dow Jones Average (Avg Index of 30 Large Companies)\n",
      "3. S&P 500 index"
     ]
    },
    {
     "cell_type": "heading",
     "level": 4,
     "metadata": {},
     "source": [
      "Features for Prediction (X variables)"
     ]
    },
    {
     "cell_type": "markdown",
     "metadata": {},
     "source": [
      "1. Google Search Trend Data\n",
      "This work was undertaken in a previous Harvard CS109 project  http://www.yuechenzhao.com/sky/linear_model.html. The work used a combination of stock prices from the previous week and google trends to try and predict the Monday closing stock price. Linear Regression was used on point variables followed by kNearest Neighbours on time-series data.\n",
      "2. Company News Headlines\n",
      "\n",
      "3. Twitter Sentiments\n",
      "Opinion Finder - academic 6 dimension opinion finder, GPOMS - Google 6 dimension opinion finder)\n",
      "4. Market Indicators\n",
      "5. Prior predicted variable movement\n",
      "6. Quandl data\n",
      "http://annstock.herokuapp.com/\n",
      "Quandl data was used https://www.quandl.com/. This has a python api and thousands of variables measured. The study here used Naive Bayes models to select the most important features for S&P index prediction. These features were then used within a Neural network for prediction and the NN's parameters optimised\n",
      "7. Twitter Significant User\n",
      "http://cs229.stanford.edu/proj2013/HuJiaoZhu-Using%20Tweets%20to%20Predict%20the%20Stock%20Market.pdf\n",
      "A SVM model was used with features derived from Elon Musk's twitter stream (Tweepy developer tool used) in order to predict the changing stock price of Tesla. The y data here is -1, 1 for daily price decrease/ increase between opening & closing. Tweets, re-teweets, sentiment analysis, previous stock movement.\n",
      "8. Twitter News User\n",
      "http://cs229.stanford.edu/proj2013/Paglia-UsingTwitterNewsandReactionstoPredictFinancialMarketMoves.pdf\n",
      "The above link follows an analysis of twitter newstream feeds. Bag of words technique was used. Binary classification in terms of daily increase/ decrease was difficult to predict but multiclass Naive Bayes and SVM's performed better"
     ]
    },
    {
     "cell_type": "code",
     "collapsed": false,
     "input": [],
     "language": "python",
     "metadata": {},
     "outputs": []
    }
   ],
   "metadata": {}
  }
 ]
}